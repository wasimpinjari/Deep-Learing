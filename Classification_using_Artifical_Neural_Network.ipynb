{
  "nbformat": 4,
  "nbformat_minor": 0,
  "metadata": {
    "colab": {
      "name": "Classification using Artifical Neural Network.ipynb",
      "provenance": [],
      "collapsed_sections": []
    },
    "kernelspec": {
      "name": "python3",
      "display_name": "Python 3"
    },
    "language_info": {
      "name": "python"
    }
  },
  "cells": [
    {
      "cell_type": "code",
      "metadata": {
        "id": "CLXWFsfpwhLn"
      },
      "source": [
        ""
      ],
      "execution_count": null,
      "outputs": []
    },
    {
      "cell_type": "code",
      "metadata": {
        "id": "MVq0fITrxN_4"
      },
      "source": [
        "import pandas as pd\n",
        "import numpy as np\n",
        "import seaborn as sns"
      ],
      "execution_count": 1,
      "outputs": []
    },
    {
      "cell_type": "code",
      "metadata": {
        "id": "1ThgZt9hxTmH"
      },
      "source": [
        "data=pd.read_csv('Churn_Modelling.csv')"
      ],
      "execution_count": 2,
      "outputs": []
    },
    {
      "cell_type": "code",
      "metadata": {
        "colab": {
          "base_uri": "https://localhost:8080/",
          "height": 224
        },
        "id": "gh1zIoH4xgox",
        "outputId": "dc553557-991c-47c8-b218-eefcdfea73b5"
      },
      "source": [
        "data.head()"
      ],
      "execution_count": 3,
      "outputs": [
        {
          "output_type": "execute_result",
          "data": {
            "text/html": [
              "<div>\n",
              "<style scoped>\n",
              "    .dataframe tbody tr th:only-of-type {\n",
              "        vertical-align: middle;\n",
              "    }\n",
              "\n",
              "    .dataframe tbody tr th {\n",
              "        vertical-align: top;\n",
              "    }\n",
              "\n",
              "    .dataframe thead th {\n",
              "        text-align: right;\n",
              "    }\n",
              "</style>\n",
              "<table border=\"1\" class=\"dataframe\">\n",
              "  <thead>\n",
              "    <tr style=\"text-align: right;\">\n",
              "      <th></th>\n",
              "      <th>RowNumber</th>\n",
              "      <th>CustomerId</th>\n",
              "      <th>Surname</th>\n",
              "      <th>CreditScore</th>\n",
              "      <th>Geography</th>\n",
              "      <th>Gender</th>\n",
              "      <th>Age</th>\n",
              "      <th>Tenure</th>\n",
              "      <th>Balance</th>\n",
              "      <th>NumOfProducts</th>\n",
              "      <th>HasCrCard</th>\n",
              "      <th>IsActiveMember</th>\n",
              "      <th>EstimatedSalary</th>\n",
              "      <th>Exited</th>\n",
              "    </tr>\n",
              "  </thead>\n",
              "  <tbody>\n",
              "    <tr>\n",
              "      <th>0</th>\n",
              "      <td>1</td>\n",
              "      <td>15634602</td>\n",
              "      <td>Hargrave</td>\n",
              "      <td>619</td>\n",
              "      <td>France</td>\n",
              "      <td>Female</td>\n",
              "      <td>42</td>\n",
              "      <td>2</td>\n",
              "      <td>0.00</td>\n",
              "      <td>1</td>\n",
              "      <td>1</td>\n",
              "      <td>1</td>\n",
              "      <td>101348.88</td>\n",
              "      <td>1</td>\n",
              "    </tr>\n",
              "    <tr>\n",
              "      <th>1</th>\n",
              "      <td>2</td>\n",
              "      <td>15647311</td>\n",
              "      <td>Hill</td>\n",
              "      <td>608</td>\n",
              "      <td>Spain</td>\n",
              "      <td>Female</td>\n",
              "      <td>41</td>\n",
              "      <td>1</td>\n",
              "      <td>83807.86</td>\n",
              "      <td>1</td>\n",
              "      <td>0</td>\n",
              "      <td>1</td>\n",
              "      <td>112542.58</td>\n",
              "      <td>0</td>\n",
              "    </tr>\n",
              "    <tr>\n",
              "      <th>2</th>\n",
              "      <td>3</td>\n",
              "      <td>15619304</td>\n",
              "      <td>Onio</td>\n",
              "      <td>502</td>\n",
              "      <td>France</td>\n",
              "      <td>Female</td>\n",
              "      <td>42</td>\n",
              "      <td>8</td>\n",
              "      <td>159660.80</td>\n",
              "      <td>3</td>\n",
              "      <td>1</td>\n",
              "      <td>0</td>\n",
              "      <td>113931.57</td>\n",
              "      <td>1</td>\n",
              "    </tr>\n",
              "    <tr>\n",
              "      <th>3</th>\n",
              "      <td>4</td>\n",
              "      <td>15701354</td>\n",
              "      <td>Boni</td>\n",
              "      <td>699</td>\n",
              "      <td>France</td>\n",
              "      <td>Female</td>\n",
              "      <td>39</td>\n",
              "      <td>1</td>\n",
              "      <td>0.00</td>\n",
              "      <td>2</td>\n",
              "      <td>0</td>\n",
              "      <td>0</td>\n",
              "      <td>93826.63</td>\n",
              "      <td>0</td>\n",
              "    </tr>\n",
              "    <tr>\n",
              "      <th>4</th>\n",
              "      <td>5</td>\n",
              "      <td>15737888</td>\n",
              "      <td>Mitchell</td>\n",
              "      <td>850</td>\n",
              "      <td>Spain</td>\n",
              "      <td>Female</td>\n",
              "      <td>43</td>\n",
              "      <td>2</td>\n",
              "      <td>125510.82</td>\n",
              "      <td>1</td>\n",
              "      <td>1</td>\n",
              "      <td>1</td>\n",
              "      <td>79084.10</td>\n",
              "      <td>0</td>\n",
              "    </tr>\n",
              "  </tbody>\n",
              "</table>\n",
              "</div>"
            ],
            "text/plain": [
              "   RowNumber  CustomerId   Surname  ...  IsActiveMember EstimatedSalary Exited\n",
              "0          1    15634602  Hargrave  ...               1       101348.88      1\n",
              "1          2    15647311      Hill  ...               1       112542.58      0\n",
              "2          3    15619304      Onio  ...               0       113931.57      1\n",
              "3          4    15701354      Boni  ...               0        93826.63      0\n",
              "4          5    15737888  Mitchell  ...               1        79084.10      0\n",
              "\n",
              "[5 rows x 14 columns]"
            ]
          },
          "metadata": {},
          "execution_count": 3
        }
      ]
    },
    {
      "cell_type": "markdown",
      "metadata": {
        "id": "E9drHVtexxww"
      },
      "source": [
        "Lets take some insight form dataset\n"
      ]
    },
    {
      "cell_type": "code",
      "metadata": {
        "colab": {
          "base_uri": "https://localhost:8080/",
          "height": 317
        },
        "id": "vgAXdRrJxl4n",
        "outputId": "05676c8b-fa24-4d6c-e855-7072cc3afdea"
      },
      "source": [
        "data.describe()"
      ],
      "execution_count": 4,
      "outputs": [
        {
          "output_type": "execute_result",
          "data": {
            "text/html": [
              "<div>\n",
              "<style scoped>\n",
              "    .dataframe tbody tr th:only-of-type {\n",
              "        vertical-align: middle;\n",
              "    }\n",
              "\n",
              "    .dataframe tbody tr th {\n",
              "        vertical-align: top;\n",
              "    }\n",
              "\n",
              "    .dataframe thead th {\n",
              "        text-align: right;\n",
              "    }\n",
              "</style>\n",
              "<table border=\"1\" class=\"dataframe\">\n",
              "  <thead>\n",
              "    <tr style=\"text-align: right;\">\n",
              "      <th></th>\n",
              "      <th>RowNumber</th>\n",
              "      <th>CustomerId</th>\n",
              "      <th>CreditScore</th>\n",
              "      <th>Age</th>\n",
              "      <th>Tenure</th>\n",
              "      <th>Balance</th>\n",
              "      <th>NumOfProducts</th>\n",
              "      <th>HasCrCard</th>\n",
              "      <th>IsActiveMember</th>\n",
              "      <th>EstimatedSalary</th>\n",
              "      <th>Exited</th>\n",
              "    </tr>\n",
              "  </thead>\n",
              "  <tbody>\n",
              "    <tr>\n",
              "      <th>count</th>\n",
              "      <td>10000.00000</td>\n",
              "      <td>1.000000e+04</td>\n",
              "      <td>10000.000000</td>\n",
              "      <td>10000.000000</td>\n",
              "      <td>10000.000000</td>\n",
              "      <td>10000.000000</td>\n",
              "      <td>10000.000000</td>\n",
              "      <td>10000.00000</td>\n",
              "      <td>10000.000000</td>\n",
              "      <td>10000.000000</td>\n",
              "      <td>10000.000000</td>\n",
              "    </tr>\n",
              "    <tr>\n",
              "      <th>mean</th>\n",
              "      <td>5000.50000</td>\n",
              "      <td>1.569094e+07</td>\n",
              "      <td>650.528800</td>\n",
              "      <td>38.921800</td>\n",
              "      <td>5.012800</td>\n",
              "      <td>76485.889288</td>\n",
              "      <td>1.530200</td>\n",
              "      <td>0.70550</td>\n",
              "      <td>0.515100</td>\n",
              "      <td>100090.239881</td>\n",
              "      <td>0.203700</td>\n",
              "    </tr>\n",
              "    <tr>\n",
              "      <th>std</th>\n",
              "      <td>2886.89568</td>\n",
              "      <td>7.193619e+04</td>\n",
              "      <td>96.653299</td>\n",
              "      <td>10.487806</td>\n",
              "      <td>2.892174</td>\n",
              "      <td>62397.405202</td>\n",
              "      <td>0.581654</td>\n",
              "      <td>0.45584</td>\n",
              "      <td>0.499797</td>\n",
              "      <td>57510.492818</td>\n",
              "      <td>0.402769</td>\n",
              "    </tr>\n",
              "    <tr>\n",
              "      <th>min</th>\n",
              "      <td>1.00000</td>\n",
              "      <td>1.556570e+07</td>\n",
              "      <td>350.000000</td>\n",
              "      <td>18.000000</td>\n",
              "      <td>0.000000</td>\n",
              "      <td>0.000000</td>\n",
              "      <td>1.000000</td>\n",
              "      <td>0.00000</td>\n",
              "      <td>0.000000</td>\n",
              "      <td>11.580000</td>\n",
              "      <td>0.000000</td>\n",
              "    </tr>\n",
              "    <tr>\n",
              "      <th>25%</th>\n",
              "      <td>2500.75000</td>\n",
              "      <td>1.562853e+07</td>\n",
              "      <td>584.000000</td>\n",
              "      <td>32.000000</td>\n",
              "      <td>3.000000</td>\n",
              "      <td>0.000000</td>\n",
              "      <td>1.000000</td>\n",
              "      <td>0.00000</td>\n",
              "      <td>0.000000</td>\n",
              "      <td>51002.110000</td>\n",
              "      <td>0.000000</td>\n",
              "    </tr>\n",
              "    <tr>\n",
              "      <th>50%</th>\n",
              "      <td>5000.50000</td>\n",
              "      <td>1.569074e+07</td>\n",
              "      <td>652.000000</td>\n",
              "      <td>37.000000</td>\n",
              "      <td>5.000000</td>\n",
              "      <td>97198.540000</td>\n",
              "      <td>1.000000</td>\n",
              "      <td>1.00000</td>\n",
              "      <td>1.000000</td>\n",
              "      <td>100193.915000</td>\n",
              "      <td>0.000000</td>\n",
              "    </tr>\n",
              "    <tr>\n",
              "      <th>75%</th>\n",
              "      <td>7500.25000</td>\n",
              "      <td>1.575323e+07</td>\n",
              "      <td>718.000000</td>\n",
              "      <td>44.000000</td>\n",
              "      <td>7.000000</td>\n",
              "      <td>127644.240000</td>\n",
              "      <td>2.000000</td>\n",
              "      <td>1.00000</td>\n",
              "      <td>1.000000</td>\n",
              "      <td>149388.247500</td>\n",
              "      <td>0.000000</td>\n",
              "    </tr>\n",
              "    <tr>\n",
              "      <th>max</th>\n",
              "      <td>10000.00000</td>\n",
              "      <td>1.581569e+07</td>\n",
              "      <td>850.000000</td>\n",
              "      <td>92.000000</td>\n",
              "      <td>10.000000</td>\n",
              "      <td>250898.090000</td>\n",
              "      <td>4.000000</td>\n",
              "      <td>1.00000</td>\n",
              "      <td>1.000000</td>\n",
              "      <td>199992.480000</td>\n",
              "      <td>1.000000</td>\n",
              "    </tr>\n",
              "  </tbody>\n",
              "</table>\n",
              "</div>"
            ],
            "text/plain": [
              "         RowNumber    CustomerId  ...  EstimatedSalary        Exited\n",
              "count  10000.00000  1.000000e+04  ...     10000.000000  10000.000000\n",
              "mean    5000.50000  1.569094e+07  ...    100090.239881      0.203700\n",
              "std     2886.89568  7.193619e+04  ...     57510.492818      0.402769\n",
              "min        1.00000  1.556570e+07  ...        11.580000      0.000000\n",
              "25%     2500.75000  1.562853e+07  ...     51002.110000      0.000000\n",
              "50%     5000.50000  1.569074e+07  ...    100193.915000      0.000000\n",
              "75%     7500.25000  1.575323e+07  ...    149388.247500      0.000000\n",
              "max    10000.00000  1.581569e+07  ...    199992.480000      1.000000\n",
              "\n",
              "[8 rows x 11 columns]"
            ]
          },
          "metadata": {},
          "execution_count": 4
        }
      ]
    },
    {
      "cell_type": "markdown",
      "metadata": {
        "id": "jemJ59da5QL7"
      },
      "source": [
        "**Missing** **Value**"
      ]
    },
    {
      "cell_type": "code",
      "metadata": {
        "colab": {
          "base_uri": "https://localhost:8080/"
        },
        "id": "T9pWYZBCzHix",
        "outputId": "23fcbc14-8cfc-45b2-ff69-a391fb520e95"
      },
      "source": [
        "data.isnull().sum()"
      ],
      "execution_count": 5,
      "outputs": [
        {
          "output_type": "execute_result",
          "data": {
            "text/plain": [
              "RowNumber          0\n",
              "CustomerId         0\n",
              "Surname            0\n",
              "CreditScore        0\n",
              "Geography          0\n",
              "Gender             0\n",
              "Age                0\n",
              "Tenure             0\n",
              "Balance            0\n",
              "NumOfProducts      0\n",
              "HasCrCard          0\n",
              "IsActiveMember     0\n",
              "EstimatedSalary    0\n",
              "Exited             0\n",
              "dtype: int64"
            ]
          },
          "metadata": {},
          "execution_count": 5
        }
      ]
    },
    {
      "cell_type": "markdown",
      "metadata": {
        "id": "zv64LTj95YaY"
      },
      "source": [
        "As we can see RowNumber , CustomerId  , Surname  is not requried while predicting the otpt so we will drop this columns"
      ]
    },
    {
      "cell_type": "code",
      "metadata": {
        "id": "_Ieutvuz53hn"
      },
      "source": [
        "data.drop(['RowNumber' , 'CustomerId' , 'Surname'],axis=1,inplace=True)"
      ],
      "execution_count": 6,
      "outputs": []
    },
    {
      "cell_type": "code",
      "metadata": {
        "colab": {
          "base_uri": "https://localhost:8080/",
          "height": 224
        },
        "id": "PB7M6jLJ6kJP",
        "outputId": "0dd8e453-cf39-42ca-b629-434b1249cc1e"
      },
      "source": [
        "data.head()"
      ],
      "execution_count": 7,
      "outputs": [
        {
          "output_type": "execute_result",
          "data": {
            "text/html": [
              "<div>\n",
              "<style scoped>\n",
              "    .dataframe tbody tr th:only-of-type {\n",
              "        vertical-align: middle;\n",
              "    }\n",
              "\n",
              "    .dataframe tbody tr th {\n",
              "        vertical-align: top;\n",
              "    }\n",
              "\n",
              "    .dataframe thead th {\n",
              "        text-align: right;\n",
              "    }\n",
              "</style>\n",
              "<table border=\"1\" class=\"dataframe\">\n",
              "  <thead>\n",
              "    <tr style=\"text-align: right;\">\n",
              "      <th></th>\n",
              "      <th>CreditScore</th>\n",
              "      <th>Geography</th>\n",
              "      <th>Gender</th>\n",
              "      <th>Age</th>\n",
              "      <th>Tenure</th>\n",
              "      <th>Balance</th>\n",
              "      <th>NumOfProducts</th>\n",
              "      <th>HasCrCard</th>\n",
              "      <th>IsActiveMember</th>\n",
              "      <th>EstimatedSalary</th>\n",
              "      <th>Exited</th>\n",
              "    </tr>\n",
              "  </thead>\n",
              "  <tbody>\n",
              "    <tr>\n",
              "      <th>0</th>\n",
              "      <td>619</td>\n",
              "      <td>France</td>\n",
              "      <td>Female</td>\n",
              "      <td>42</td>\n",
              "      <td>2</td>\n",
              "      <td>0.00</td>\n",
              "      <td>1</td>\n",
              "      <td>1</td>\n",
              "      <td>1</td>\n",
              "      <td>101348.88</td>\n",
              "      <td>1</td>\n",
              "    </tr>\n",
              "    <tr>\n",
              "      <th>1</th>\n",
              "      <td>608</td>\n",
              "      <td>Spain</td>\n",
              "      <td>Female</td>\n",
              "      <td>41</td>\n",
              "      <td>1</td>\n",
              "      <td>83807.86</td>\n",
              "      <td>1</td>\n",
              "      <td>0</td>\n",
              "      <td>1</td>\n",
              "      <td>112542.58</td>\n",
              "      <td>0</td>\n",
              "    </tr>\n",
              "    <tr>\n",
              "      <th>2</th>\n",
              "      <td>502</td>\n",
              "      <td>France</td>\n",
              "      <td>Female</td>\n",
              "      <td>42</td>\n",
              "      <td>8</td>\n",
              "      <td>159660.80</td>\n",
              "      <td>3</td>\n",
              "      <td>1</td>\n",
              "      <td>0</td>\n",
              "      <td>113931.57</td>\n",
              "      <td>1</td>\n",
              "    </tr>\n",
              "    <tr>\n",
              "      <th>3</th>\n",
              "      <td>699</td>\n",
              "      <td>France</td>\n",
              "      <td>Female</td>\n",
              "      <td>39</td>\n",
              "      <td>1</td>\n",
              "      <td>0.00</td>\n",
              "      <td>2</td>\n",
              "      <td>0</td>\n",
              "      <td>0</td>\n",
              "      <td>93826.63</td>\n",
              "      <td>0</td>\n",
              "    </tr>\n",
              "    <tr>\n",
              "      <th>4</th>\n",
              "      <td>850</td>\n",
              "      <td>Spain</td>\n",
              "      <td>Female</td>\n",
              "      <td>43</td>\n",
              "      <td>2</td>\n",
              "      <td>125510.82</td>\n",
              "      <td>1</td>\n",
              "      <td>1</td>\n",
              "      <td>1</td>\n",
              "      <td>79084.10</td>\n",
              "      <td>0</td>\n",
              "    </tr>\n",
              "  </tbody>\n",
              "</table>\n",
              "</div>"
            ],
            "text/plain": [
              "   CreditScore Geography  Gender  ...  IsActiveMember  EstimatedSalary  Exited\n",
              "0          619    France  Female  ...               1        101348.88       1\n",
              "1          608     Spain  Female  ...               1        112542.58       0\n",
              "2          502    France  Female  ...               0        113931.57       1\n",
              "3          699    France  Female  ...               0         93826.63       0\n",
              "4          850     Spain  Female  ...               1         79084.10       0\n",
              "\n",
              "[5 rows x 11 columns]"
            ]
          },
          "metadata": {},
          "execution_count": 7
        }
      ]
    },
    {
      "cell_type": "code",
      "metadata": {
        "id": "v9PD8FxI9N-4"
      },
      "source": [
        "x=data.drop(['Exited'] ,axis=1)\n",
        "y=data.Exited"
      ],
      "execution_count": 8,
      "outputs": []
    },
    {
      "cell_type": "code",
      "metadata": {
        "colab": {
          "base_uri": "https://localhost:8080/",
          "height": 439
        },
        "id": "UaEwF4Da90WW",
        "outputId": "7f2aadd7-c3e8-497d-d313-06049b974e50"
      },
      "source": [
        "x"
      ],
      "execution_count": 9,
      "outputs": [
        {
          "output_type": "execute_result",
          "data": {
            "text/html": [
              "<div>\n",
              "<style scoped>\n",
              "    .dataframe tbody tr th:only-of-type {\n",
              "        vertical-align: middle;\n",
              "    }\n",
              "\n",
              "    .dataframe tbody tr th {\n",
              "        vertical-align: top;\n",
              "    }\n",
              "\n",
              "    .dataframe thead th {\n",
              "        text-align: right;\n",
              "    }\n",
              "</style>\n",
              "<table border=\"1\" class=\"dataframe\">\n",
              "  <thead>\n",
              "    <tr style=\"text-align: right;\">\n",
              "      <th></th>\n",
              "      <th>CreditScore</th>\n",
              "      <th>Geography</th>\n",
              "      <th>Gender</th>\n",
              "      <th>Age</th>\n",
              "      <th>Tenure</th>\n",
              "      <th>Balance</th>\n",
              "      <th>NumOfProducts</th>\n",
              "      <th>HasCrCard</th>\n",
              "      <th>IsActiveMember</th>\n",
              "      <th>EstimatedSalary</th>\n",
              "    </tr>\n",
              "  </thead>\n",
              "  <tbody>\n",
              "    <tr>\n",
              "      <th>0</th>\n",
              "      <td>619</td>\n",
              "      <td>France</td>\n",
              "      <td>Female</td>\n",
              "      <td>42</td>\n",
              "      <td>2</td>\n",
              "      <td>0.00</td>\n",
              "      <td>1</td>\n",
              "      <td>1</td>\n",
              "      <td>1</td>\n",
              "      <td>101348.88</td>\n",
              "    </tr>\n",
              "    <tr>\n",
              "      <th>1</th>\n",
              "      <td>608</td>\n",
              "      <td>Spain</td>\n",
              "      <td>Female</td>\n",
              "      <td>41</td>\n",
              "      <td>1</td>\n",
              "      <td>83807.86</td>\n",
              "      <td>1</td>\n",
              "      <td>0</td>\n",
              "      <td>1</td>\n",
              "      <td>112542.58</td>\n",
              "    </tr>\n",
              "    <tr>\n",
              "      <th>2</th>\n",
              "      <td>502</td>\n",
              "      <td>France</td>\n",
              "      <td>Female</td>\n",
              "      <td>42</td>\n",
              "      <td>8</td>\n",
              "      <td>159660.80</td>\n",
              "      <td>3</td>\n",
              "      <td>1</td>\n",
              "      <td>0</td>\n",
              "      <td>113931.57</td>\n",
              "    </tr>\n",
              "    <tr>\n",
              "      <th>3</th>\n",
              "      <td>699</td>\n",
              "      <td>France</td>\n",
              "      <td>Female</td>\n",
              "      <td>39</td>\n",
              "      <td>1</td>\n",
              "      <td>0.00</td>\n",
              "      <td>2</td>\n",
              "      <td>0</td>\n",
              "      <td>0</td>\n",
              "      <td>93826.63</td>\n",
              "    </tr>\n",
              "    <tr>\n",
              "      <th>4</th>\n",
              "      <td>850</td>\n",
              "      <td>Spain</td>\n",
              "      <td>Female</td>\n",
              "      <td>43</td>\n",
              "      <td>2</td>\n",
              "      <td>125510.82</td>\n",
              "      <td>1</td>\n",
              "      <td>1</td>\n",
              "      <td>1</td>\n",
              "      <td>79084.10</td>\n",
              "    </tr>\n",
              "    <tr>\n",
              "      <th>...</th>\n",
              "      <td>...</td>\n",
              "      <td>...</td>\n",
              "      <td>...</td>\n",
              "      <td>...</td>\n",
              "      <td>...</td>\n",
              "      <td>...</td>\n",
              "      <td>...</td>\n",
              "      <td>...</td>\n",
              "      <td>...</td>\n",
              "      <td>...</td>\n",
              "    </tr>\n",
              "    <tr>\n",
              "      <th>9995</th>\n",
              "      <td>771</td>\n",
              "      <td>France</td>\n",
              "      <td>Male</td>\n",
              "      <td>39</td>\n",
              "      <td>5</td>\n",
              "      <td>0.00</td>\n",
              "      <td>2</td>\n",
              "      <td>1</td>\n",
              "      <td>0</td>\n",
              "      <td>96270.64</td>\n",
              "    </tr>\n",
              "    <tr>\n",
              "      <th>9996</th>\n",
              "      <td>516</td>\n",
              "      <td>France</td>\n",
              "      <td>Male</td>\n",
              "      <td>35</td>\n",
              "      <td>10</td>\n",
              "      <td>57369.61</td>\n",
              "      <td>1</td>\n",
              "      <td>1</td>\n",
              "      <td>1</td>\n",
              "      <td>101699.77</td>\n",
              "    </tr>\n",
              "    <tr>\n",
              "      <th>9997</th>\n",
              "      <td>709</td>\n",
              "      <td>France</td>\n",
              "      <td>Female</td>\n",
              "      <td>36</td>\n",
              "      <td>7</td>\n",
              "      <td>0.00</td>\n",
              "      <td>1</td>\n",
              "      <td>0</td>\n",
              "      <td>1</td>\n",
              "      <td>42085.58</td>\n",
              "    </tr>\n",
              "    <tr>\n",
              "      <th>9998</th>\n",
              "      <td>772</td>\n",
              "      <td>Germany</td>\n",
              "      <td>Male</td>\n",
              "      <td>42</td>\n",
              "      <td>3</td>\n",
              "      <td>75075.31</td>\n",
              "      <td>2</td>\n",
              "      <td>1</td>\n",
              "      <td>0</td>\n",
              "      <td>92888.52</td>\n",
              "    </tr>\n",
              "    <tr>\n",
              "      <th>9999</th>\n",
              "      <td>792</td>\n",
              "      <td>France</td>\n",
              "      <td>Female</td>\n",
              "      <td>28</td>\n",
              "      <td>4</td>\n",
              "      <td>130142.79</td>\n",
              "      <td>1</td>\n",
              "      <td>1</td>\n",
              "      <td>0</td>\n",
              "      <td>38190.78</td>\n",
              "    </tr>\n",
              "  </tbody>\n",
              "</table>\n",
              "<p>10000 rows × 10 columns</p>\n",
              "</div>"
            ],
            "text/plain": [
              "      CreditScore Geography  Gender  ...  HasCrCard  IsActiveMember  EstimatedSalary\n",
              "0             619    France  Female  ...          1               1        101348.88\n",
              "1             608     Spain  Female  ...          0               1        112542.58\n",
              "2             502    France  Female  ...          1               0        113931.57\n",
              "3             699    France  Female  ...          0               0         93826.63\n",
              "4             850     Spain  Female  ...          1               1         79084.10\n",
              "...           ...       ...     ...  ...        ...             ...              ...\n",
              "9995          771    France    Male  ...          1               0         96270.64\n",
              "9996          516    France    Male  ...          1               1        101699.77\n",
              "9997          709    France  Female  ...          0               1         42085.58\n",
              "9998          772   Germany    Male  ...          1               0         92888.52\n",
              "9999          792    France  Female  ...          1               0         38190.78\n",
              "\n",
              "[10000 rows x 10 columns]"
            ]
          },
          "metadata": {},
          "execution_count": 9
        }
      ]
    },
    {
      "cell_type": "code",
      "metadata": {
        "colab": {
          "base_uri": "https://localhost:8080/"
        },
        "id": "aHEH_epu91t2",
        "outputId": "b9955c11-a921-4706-f528-c5a21ab74092"
      },
      "source": [
        "y"
      ],
      "execution_count": 10,
      "outputs": [
        {
          "output_type": "execute_result",
          "data": {
            "text/plain": [
              "0       1\n",
              "1       0\n",
              "2       1\n",
              "3       0\n",
              "4       0\n",
              "       ..\n",
              "9995    0\n",
              "9996    0\n",
              "9997    1\n",
              "9998    1\n",
              "9999    0\n",
              "Name: Exited, Length: 10000, dtype: int64"
            ]
          },
          "metadata": {},
          "execution_count": 10
        }
      ]
    },
    {
      "cell_type": "markdown",
      "metadata": {
        "id": "dRM-7IPf-T69"
      },
      "source": [
        "Dealing with categoraical Variable"
      ]
    },
    {
      "cell_type": "code",
      "metadata": {
        "colab": {
          "base_uri": "https://localhost:8080/",
          "height": 439
        },
        "id": "zXFobpTh-Yn_",
        "outputId": "b8afd23c-9dee-483d-967b-cc887f561182"
      },
      "source": [
        "x=pd.get_dummies(x,columns=['Geography'\t,'Gender'] , drop_first= True)\n",
        "x"
      ],
      "execution_count": 11,
      "outputs": [
        {
          "output_type": "execute_result",
          "data": {
            "text/html": [
              "<div>\n",
              "<style scoped>\n",
              "    .dataframe tbody tr th:only-of-type {\n",
              "        vertical-align: middle;\n",
              "    }\n",
              "\n",
              "    .dataframe tbody tr th {\n",
              "        vertical-align: top;\n",
              "    }\n",
              "\n",
              "    .dataframe thead th {\n",
              "        text-align: right;\n",
              "    }\n",
              "</style>\n",
              "<table border=\"1\" class=\"dataframe\">\n",
              "  <thead>\n",
              "    <tr style=\"text-align: right;\">\n",
              "      <th></th>\n",
              "      <th>CreditScore</th>\n",
              "      <th>Age</th>\n",
              "      <th>Tenure</th>\n",
              "      <th>Balance</th>\n",
              "      <th>NumOfProducts</th>\n",
              "      <th>HasCrCard</th>\n",
              "      <th>IsActiveMember</th>\n",
              "      <th>EstimatedSalary</th>\n",
              "      <th>Geography_Germany</th>\n",
              "      <th>Geography_Spain</th>\n",
              "      <th>Gender_Male</th>\n",
              "    </tr>\n",
              "  </thead>\n",
              "  <tbody>\n",
              "    <tr>\n",
              "      <th>0</th>\n",
              "      <td>619</td>\n",
              "      <td>42</td>\n",
              "      <td>2</td>\n",
              "      <td>0.00</td>\n",
              "      <td>1</td>\n",
              "      <td>1</td>\n",
              "      <td>1</td>\n",
              "      <td>101348.88</td>\n",
              "      <td>0</td>\n",
              "      <td>0</td>\n",
              "      <td>0</td>\n",
              "    </tr>\n",
              "    <tr>\n",
              "      <th>1</th>\n",
              "      <td>608</td>\n",
              "      <td>41</td>\n",
              "      <td>1</td>\n",
              "      <td>83807.86</td>\n",
              "      <td>1</td>\n",
              "      <td>0</td>\n",
              "      <td>1</td>\n",
              "      <td>112542.58</td>\n",
              "      <td>0</td>\n",
              "      <td>1</td>\n",
              "      <td>0</td>\n",
              "    </tr>\n",
              "    <tr>\n",
              "      <th>2</th>\n",
              "      <td>502</td>\n",
              "      <td>42</td>\n",
              "      <td>8</td>\n",
              "      <td>159660.80</td>\n",
              "      <td>3</td>\n",
              "      <td>1</td>\n",
              "      <td>0</td>\n",
              "      <td>113931.57</td>\n",
              "      <td>0</td>\n",
              "      <td>0</td>\n",
              "      <td>0</td>\n",
              "    </tr>\n",
              "    <tr>\n",
              "      <th>3</th>\n",
              "      <td>699</td>\n",
              "      <td>39</td>\n",
              "      <td>1</td>\n",
              "      <td>0.00</td>\n",
              "      <td>2</td>\n",
              "      <td>0</td>\n",
              "      <td>0</td>\n",
              "      <td>93826.63</td>\n",
              "      <td>0</td>\n",
              "      <td>0</td>\n",
              "      <td>0</td>\n",
              "    </tr>\n",
              "    <tr>\n",
              "      <th>4</th>\n",
              "      <td>850</td>\n",
              "      <td>43</td>\n",
              "      <td>2</td>\n",
              "      <td>125510.82</td>\n",
              "      <td>1</td>\n",
              "      <td>1</td>\n",
              "      <td>1</td>\n",
              "      <td>79084.10</td>\n",
              "      <td>0</td>\n",
              "      <td>1</td>\n",
              "      <td>0</td>\n",
              "    </tr>\n",
              "    <tr>\n",
              "      <th>...</th>\n",
              "      <td>...</td>\n",
              "      <td>...</td>\n",
              "      <td>...</td>\n",
              "      <td>...</td>\n",
              "      <td>...</td>\n",
              "      <td>...</td>\n",
              "      <td>...</td>\n",
              "      <td>...</td>\n",
              "      <td>...</td>\n",
              "      <td>...</td>\n",
              "      <td>...</td>\n",
              "    </tr>\n",
              "    <tr>\n",
              "      <th>9995</th>\n",
              "      <td>771</td>\n",
              "      <td>39</td>\n",
              "      <td>5</td>\n",
              "      <td>0.00</td>\n",
              "      <td>2</td>\n",
              "      <td>1</td>\n",
              "      <td>0</td>\n",
              "      <td>96270.64</td>\n",
              "      <td>0</td>\n",
              "      <td>0</td>\n",
              "      <td>1</td>\n",
              "    </tr>\n",
              "    <tr>\n",
              "      <th>9996</th>\n",
              "      <td>516</td>\n",
              "      <td>35</td>\n",
              "      <td>10</td>\n",
              "      <td>57369.61</td>\n",
              "      <td>1</td>\n",
              "      <td>1</td>\n",
              "      <td>1</td>\n",
              "      <td>101699.77</td>\n",
              "      <td>0</td>\n",
              "      <td>0</td>\n",
              "      <td>1</td>\n",
              "    </tr>\n",
              "    <tr>\n",
              "      <th>9997</th>\n",
              "      <td>709</td>\n",
              "      <td>36</td>\n",
              "      <td>7</td>\n",
              "      <td>0.00</td>\n",
              "      <td>1</td>\n",
              "      <td>0</td>\n",
              "      <td>1</td>\n",
              "      <td>42085.58</td>\n",
              "      <td>0</td>\n",
              "      <td>0</td>\n",
              "      <td>0</td>\n",
              "    </tr>\n",
              "    <tr>\n",
              "      <th>9998</th>\n",
              "      <td>772</td>\n",
              "      <td>42</td>\n",
              "      <td>3</td>\n",
              "      <td>75075.31</td>\n",
              "      <td>2</td>\n",
              "      <td>1</td>\n",
              "      <td>0</td>\n",
              "      <td>92888.52</td>\n",
              "      <td>1</td>\n",
              "      <td>0</td>\n",
              "      <td>1</td>\n",
              "    </tr>\n",
              "    <tr>\n",
              "      <th>9999</th>\n",
              "      <td>792</td>\n",
              "      <td>28</td>\n",
              "      <td>4</td>\n",
              "      <td>130142.79</td>\n",
              "      <td>1</td>\n",
              "      <td>1</td>\n",
              "      <td>0</td>\n",
              "      <td>38190.78</td>\n",
              "      <td>0</td>\n",
              "      <td>0</td>\n",
              "      <td>0</td>\n",
              "    </tr>\n",
              "  </tbody>\n",
              "</table>\n",
              "<p>10000 rows × 11 columns</p>\n",
              "</div>"
            ],
            "text/plain": [
              "      CreditScore  Age  Tenure  ...  Geography_Germany  Geography_Spain  Gender_Male\n",
              "0             619   42       2  ...                  0                0            0\n",
              "1             608   41       1  ...                  0                1            0\n",
              "2             502   42       8  ...                  0                0            0\n",
              "3             699   39       1  ...                  0                0            0\n",
              "4             850   43       2  ...                  0                1            0\n",
              "...           ...  ...     ...  ...                ...              ...          ...\n",
              "9995          771   39       5  ...                  0                0            1\n",
              "9996          516   35      10  ...                  0                0            1\n",
              "9997          709   36       7  ...                  0                0            0\n",
              "9998          772   42       3  ...                  1                0            1\n",
              "9999          792   28       4  ...                  0                0            0\n",
              "\n",
              "[10000 rows x 11 columns]"
            ]
          },
          "metadata": {},
          "execution_count": 11
        }
      ]
    },
    {
      "cell_type": "markdown",
      "metadata": {
        "id": "Yn8OzjFE_P6D"
      },
      "source": [
        "Scaling the feature"
      ]
    },
    {
      "cell_type": "code",
      "metadata": {
        "id": "Wo9tXgj-_TiR"
      },
      "source": [
        "from sklearn.preprocessing import MinMaxScaler"
      ],
      "execution_count": 12,
      "outputs": []
    },
    {
      "cell_type": "code",
      "metadata": {
        "id": "rGMKhh7W_h_6"
      },
      "source": [
        "sc=MinMaxScaler()\n",
        "x=sc.fit_transform(x)"
      ],
      "execution_count": 13,
      "outputs": []
    },
    {
      "cell_type": "code",
      "metadata": {
        "colab": {
          "base_uri": "https://localhost:8080/"
        },
        "id": "q1epsk_o_1nq",
        "outputId": "3b2622ac-7c40-41bf-c27b-aaf7188deeee"
      },
      "source": [
        "x"
      ],
      "execution_count": 14,
      "outputs": [
        {
          "output_type": "execute_result",
          "data": {
            "text/plain": [
              "array([[0.538     , 0.32432432, 0.2       , ..., 0.        , 0.        ,\n",
              "        0.        ],\n",
              "       [0.516     , 0.31081081, 0.1       , ..., 0.        , 1.        ,\n",
              "        0.        ],\n",
              "       [0.304     , 0.32432432, 0.8       , ..., 0.        , 0.        ,\n",
              "        0.        ],\n",
              "       ...,\n",
              "       [0.718     , 0.24324324, 0.7       , ..., 0.        , 0.        ,\n",
              "        0.        ],\n",
              "       [0.844     , 0.32432432, 0.3       , ..., 1.        , 0.        ,\n",
              "        1.        ],\n",
              "       [0.884     , 0.13513514, 0.4       , ..., 0.        , 0.        ,\n",
              "        0.        ]])"
            ]
          },
          "metadata": {},
          "execution_count": 14
        }
      ]
    },
    {
      "cell_type": "markdown",
      "metadata": {
        "id": "ZnWW_y5MACLz"
      },
      "source": [
        "Spliting the dataset into Train , Test"
      ]
    },
    {
      "cell_type": "code",
      "metadata": {
        "id": "K4E-XpLOAIFc"
      },
      "source": [
        "from sklearn.model_selection import train_test_split as tts\n",
        "x_train,x_test,y_train,y_test=tts(x,y,test_size = 0.2, random_state = 0)"
      ],
      "execution_count": 15,
      "outputs": []
    },
    {
      "cell_type": "markdown",
      "metadata": {
        "id": "D-ZdfijyBHiu"
      },
      "source": [
        "**Bulding Artifical Neural Network**"
      ]
    },
    {
      "cell_type": "code",
      "metadata": {
        "id": "6JTdxGfjBQm6"
      },
      "source": [
        "import tensorflow as tf\n",
        "from tensorflow.keras.models import Sequential\n",
        "from tensorflow.keras.layers import Dense"
      ],
      "execution_count": 16,
      "outputs": []
    },
    {
      "cell_type": "code",
      "metadata": {
        "id": "COzlNv5Nv3lH"
      },
      "source": [
        "# Initialising the ANN\n",
        "ann=Sequential()\n"
      ],
      "execution_count": 17,
      "outputs": []
    },
    {
      "cell_type": "markdown",
      "metadata": {
        "id": "Oee1HWT-HOLt"
      },
      "source": [
        "Adding the input and 1st hidden layer . In this we are adding 12 neuron in 1st hidden layer and activation function is 'Rectifier(Rectified liner unit)'"
      ]
    },
    {
      "cell_type": "code",
      "metadata": {
        "id": "ydQ4f61twFFw"
      },
      "source": [
        "ann.add(Dense(units=12 , activation='relu'))"
      ],
      "execution_count": 18,
      "outputs": []
    },
    {
      "cell_type": "markdown",
      "metadata": {
        "id": "_OvP_VeYKBf4"
      },
      "source": [
        "Adding the 2st hidden layer . In this we are adding 6 neuron in 2st hidden layer and activation function is rectified liner unit"
      ]
    },
    {
      "cell_type": "code",
      "metadata": {
        "id": "cxCwKfIvJ6qc"
      },
      "source": [
        "ann.add(Dense(units=6 , activation='relu'))"
      ],
      "execution_count": 19,
      "outputs": []
    },
    {
      "cell_type": "markdown",
      "metadata": {
        "id": "52x8s58MK4PW"
      },
      "source": [
        "Adding the output layer "
      ]
    },
    {
      "cell_type": "code",
      "metadata": {
        "id": "FJEXlqRLK2_V"
      },
      "source": [
        "ann.add(Dense(units=1 , activation='sigmoid'))"
      ],
      "execution_count": 20,
      "outputs": []
    },
    {
      "cell_type": "markdown",
      "metadata": {
        "id": "37-YQvJLLsJx"
      },
      "source": [
        "Traning of ANN"
      ]
    },
    {
      "cell_type": "markdown",
      "metadata": {
        "id": "kTw1W2iHLxHj"
      },
      "source": [
        "Compling the ANN"
      ]
    },
    {
      "cell_type": "code",
      "metadata": {
        "id": "9hliM0-HLhfg"
      },
      "source": [
        "ann.compile(optimizer='adam',loss='binary_crossentropy', metrics=['accuracy'])\n"
      ],
      "execution_count": 21,
      "outputs": []
    },
    {
      "cell_type": "markdown",
      "metadata": {
        "id": "1uBzEsU1N-Ze"
      },
      "source": [
        "Here we use stochastic gradient descent method for optimization and as we have binary output we use loss function as binary entropy "
      ]
    },
    {
      "cell_type": "code",
      "metadata": {
        "colab": {
          "base_uri": "https://localhost:8080/"
        },
        "id": "kITXY4sKN4fr",
        "outputId": "d399178c-2737-497d-9727-6f45e965901b"
      },
      "source": [
        "ann.fit(x_train ,y_train ,batch_size=32,validation_split=0.10 ,epochs=100)"
      ],
      "execution_count": 22,
      "outputs": [
        {
          "output_type": "stream",
          "name": "stdout",
          "text": [
            "Epoch 1/100\n",
            "225/225 [==============================] - 1s 3ms/step - loss: 0.5418 - accuracy: 0.7611 - val_loss: 0.4797 - val_accuracy: 0.7950\n",
            "Epoch 2/100\n",
            "225/225 [==============================] - 0s 2ms/step - loss: 0.4756 - accuracy: 0.7961 - val_loss: 0.4674 - val_accuracy: 0.7950\n",
            "Epoch 3/100\n",
            "225/225 [==============================] - 0s 2ms/step - loss: 0.4684 - accuracy: 0.7961 - val_loss: 0.4581 - val_accuracy: 0.7950\n",
            "Epoch 4/100\n",
            "225/225 [==============================] - 0s 2ms/step - loss: 0.4612 - accuracy: 0.7961 - val_loss: 0.4464 - val_accuracy: 0.7950\n",
            "Epoch 5/100\n",
            "225/225 [==============================] - 0s 2ms/step - loss: 0.4522 - accuracy: 0.7972 - val_loss: 0.4353 - val_accuracy: 0.8012\n",
            "Epoch 6/100\n",
            "225/225 [==============================] - 0s 2ms/step - loss: 0.4412 - accuracy: 0.8040 - val_loss: 0.4221 - val_accuracy: 0.8188\n",
            "Epoch 7/100\n",
            "225/225 [==============================] - 0s 2ms/step - loss: 0.4268 - accuracy: 0.8138 - val_loss: 0.4025 - val_accuracy: 0.8200\n",
            "Epoch 8/100\n",
            "225/225 [==============================] - 0s 2ms/step - loss: 0.4141 - accuracy: 0.8201 - val_loss: 0.3899 - val_accuracy: 0.8250\n",
            "Epoch 9/100\n",
            "225/225 [==============================] - 0s 2ms/step - loss: 0.4023 - accuracy: 0.8269 - val_loss: 0.3792 - val_accuracy: 0.8275\n",
            "Epoch 10/100\n",
            "225/225 [==============================] - 0s 2ms/step - loss: 0.3932 - accuracy: 0.8325 - val_loss: 0.3722 - val_accuracy: 0.8325\n",
            "Epoch 11/100\n",
            "225/225 [==============================] - 0s 2ms/step - loss: 0.3846 - accuracy: 0.8358 - val_loss: 0.3641 - val_accuracy: 0.8363\n",
            "Epoch 12/100\n",
            "225/225 [==============================] - 0s 2ms/step - loss: 0.3790 - accuracy: 0.8385 - val_loss: 0.3622 - val_accuracy: 0.8413\n",
            "Epoch 13/100\n",
            "225/225 [==============================] - 0s 2ms/step - loss: 0.3744 - accuracy: 0.8415 - val_loss: 0.3585 - val_accuracy: 0.8363\n",
            "Epoch 14/100\n",
            "225/225 [==============================] - 0s 2ms/step - loss: 0.3708 - accuracy: 0.8424 - val_loss: 0.3563 - val_accuracy: 0.8363\n",
            "Epoch 15/100\n",
            "225/225 [==============================] - 0s 2ms/step - loss: 0.3676 - accuracy: 0.8440 - val_loss: 0.3548 - val_accuracy: 0.8438\n",
            "Epoch 16/100\n",
            "225/225 [==============================] - 0s 2ms/step - loss: 0.3664 - accuracy: 0.8435 - val_loss: 0.3540 - val_accuracy: 0.8500\n",
            "Epoch 17/100\n",
            "225/225 [==============================] - 0s 2ms/step - loss: 0.3638 - accuracy: 0.8464 - val_loss: 0.3496 - val_accuracy: 0.8462\n",
            "Epoch 18/100\n",
            "225/225 [==============================] - 0s 2ms/step - loss: 0.3627 - accuracy: 0.8461 - val_loss: 0.3483 - val_accuracy: 0.8525\n",
            "Epoch 19/100\n",
            "225/225 [==============================] - 0s 2ms/step - loss: 0.3601 - accuracy: 0.8522 - val_loss: 0.3468 - val_accuracy: 0.8512\n",
            "Epoch 20/100\n",
            "225/225 [==============================] - 0s 2ms/step - loss: 0.3589 - accuracy: 0.8486 - val_loss: 0.3447 - val_accuracy: 0.8487\n",
            "Epoch 21/100\n",
            "225/225 [==============================] - 0s 2ms/step - loss: 0.3571 - accuracy: 0.8501 - val_loss: 0.3436 - val_accuracy: 0.8475\n",
            "Epoch 22/100\n",
            "225/225 [==============================] - 0s 2ms/step - loss: 0.3557 - accuracy: 0.8503 - val_loss: 0.3410 - val_accuracy: 0.8525\n",
            "Epoch 23/100\n",
            "225/225 [==============================] - 0s 2ms/step - loss: 0.3550 - accuracy: 0.8521 - val_loss: 0.3402 - val_accuracy: 0.8550\n",
            "Epoch 24/100\n",
            "225/225 [==============================] - 0s 2ms/step - loss: 0.3537 - accuracy: 0.8536 - val_loss: 0.3401 - val_accuracy: 0.8562\n",
            "Epoch 25/100\n",
            "225/225 [==============================] - 0s 2ms/step - loss: 0.3523 - accuracy: 0.8547 - val_loss: 0.3375 - val_accuracy: 0.8562\n",
            "Epoch 26/100\n",
            "225/225 [==============================] - 0s 2ms/step - loss: 0.3513 - accuracy: 0.8549 - val_loss: 0.3375 - val_accuracy: 0.8587\n",
            "Epoch 27/100\n",
            "225/225 [==============================] - 0s 2ms/step - loss: 0.3506 - accuracy: 0.8525 - val_loss: 0.3392 - val_accuracy: 0.8500\n",
            "Epoch 28/100\n",
            "225/225 [==============================] - 0s 2ms/step - loss: 0.3506 - accuracy: 0.8525 - val_loss: 0.3384 - val_accuracy: 0.8512\n",
            "Epoch 29/100\n",
            "225/225 [==============================] - 0s 2ms/step - loss: 0.3496 - accuracy: 0.8535 - val_loss: 0.3337 - val_accuracy: 0.8600\n",
            "Epoch 30/100\n",
            "225/225 [==============================] - 0s 2ms/step - loss: 0.3488 - accuracy: 0.8550 - val_loss: 0.3317 - val_accuracy: 0.8550\n",
            "Epoch 31/100\n",
            "225/225 [==============================] - 0s 2ms/step - loss: 0.3486 - accuracy: 0.8539 - val_loss: 0.3323 - val_accuracy: 0.8600\n",
            "Epoch 32/100\n",
            "225/225 [==============================] - 0s 2ms/step - loss: 0.3470 - accuracy: 0.8562 - val_loss: 0.3341 - val_accuracy: 0.8575\n",
            "Epoch 33/100\n",
            "225/225 [==============================] - 0s 2ms/step - loss: 0.3470 - accuracy: 0.8532 - val_loss: 0.3302 - val_accuracy: 0.8512\n",
            "Epoch 34/100\n",
            "225/225 [==============================] - 0s 2ms/step - loss: 0.3469 - accuracy: 0.8551 - val_loss: 0.3322 - val_accuracy: 0.8550\n",
            "Epoch 35/100\n",
            "225/225 [==============================] - 0s 2ms/step - loss: 0.3461 - accuracy: 0.8561 - val_loss: 0.3309 - val_accuracy: 0.8575\n",
            "Epoch 36/100\n",
            "225/225 [==============================] - 0s 2ms/step - loss: 0.3453 - accuracy: 0.8572 - val_loss: 0.3316 - val_accuracy: 0.8575\n",
            "Epoch 37/100\n",
            "225/225 [==============================] - 0s 2ms/step - loss: 0.3442 - accuracy: 0.8569 - val_loss: 0.3277 - val_accuracy: 0.8600\n",
            "Epoch 38/100\n",
            "225/225 [==============================] - 0s 2ms/step - loss: 0.3443 - accuracy: 0.8560 - val_loss: 0.3283 - val_accuracy: 0.8612\n",
            "Epoch 39/100\n",
            "225/225 [==============================] - 0s 2ms/step - loss: 0.3436 - accuracy: 0.8547 - val_loss: 0.3265 - val_accuracy: 0.8625\n",
            "Epoch 40/100\n",
            "225/225 [==============================] - 0s 2ms/step - loss: 0.3437 - accuracy: 0.8569 - val_loss: 0.3278 - val_accuracy: 0.8612\n",
            "Epoch 41/100\n",
            "225/225 [==============================] - 0s 2ms/step - loss: 0.3437 - accuracy: 0.8581 - val_loss: 0.3248 - val_accuracy: 0.8662\n",
            "Epoch 42/100\n",
            "225/225 [==============================] - 0s 2ms/step - loss: 0.3430 - accuracy: 0.8565 - val_loss: 0.3275 - val_accuracy: 0.8575\n",
            "Epoch 43/100\n",
            "225/225 [==============================] - 0s 2ms/step - loss: 0.3420 - accuracy: 0.8579 - val_loss: 0.3280 - val_accuracy: 0.8575\n",
            "Epoch 44/100\n",
            "225/225 [==============================] - 0s 2ms/step - loss: 0.3420 - accuracy: 0.8592 - val_loss: 0.3248 - val_accuracy: 0.8662\n",
            "Epoch 45/100\n",
            "225/225 [==============================] - 0s 2ms/step - loss: 0.3410 - accuracy: 0.8581 - val_loss: 0.3233 - val_accuracy: 0.8637\n",
            "Epoch 46/100\n",
            "225/225 [==============================] - 0s 2ms/step - loss: 0.3411 - accuracy: 0.8583 - val_loss: 0.3269 - val_accuracy: 0.8600\n",
            "Epoch 47/100\n",
            "225/225 [==============================] - 0s 2ms/step - loss: 0.3414 - accuracy: 0.8572 - val_loss: 0.3231 - val_accuracy: 0.8637\n",
            "Epoch 48/100\n",
            "225/225 [==============================] - 0s 2ms/step - loss: 0.3410 - accuracy: 0.8579 - val_loss: 0.3244 - val_accuracy: 0.8662\n",
            "Epoch 49/100\n",
            "225/225 [==============================] - 0s 2ms/step - loss: 0.3394 - accuracy: 0.8589 - val_loss: 0.3238 - val_accuracy: 0.8625\n",
            "Epoch 50/100\n",
            "225/225 [==============================] - 0s 2ms/step - loss: 0.3406 - accuracy: 0.8582 - val_loss: 0.3262 - val_accuracy: 0.8562\n",
            "Epoch 51/100\n",
            "225/225 [==============================] - 0s 2ms/step - loss: 0.3397 - accuracy: 0.8581 - val_loss: 0.3216 - val_accuracy: 0.8700\n",
            "Epoch 52/100\n",
            "225/225 [==============================] - 0s 2ms/step - loss: 0.3396 - accuracy: 0.8575 - val_loss: 0.3225 - val_accuracy: 0.8650\n",
            "Epoch 53/100\n",
            "225/225 [==============================] - 0s 2ms/step - loss: 0.3396 - accuracy: 0.8596 - val_loss: 0.3216 - val_accuracy: 0.8662\n",
            "Epoch 54/100\n",
            "225/225 [==============================] - 0s 2ms/step - loss: 0.3395 - accuracy: 0.8575 - val_loss: 0.3241 - val_accuracy: 0.8662\n",
            "Epoch 55/100\n",
            "225/225 [==============================] - 0s 2ms/step - loss: 0.3390 - accuracy: 0.8599 - val_loss: 0.3233 - val_accuracy: 0.8650\n",
            "Epoch 56/100\n",
            "225/225 [==============================] - 0s 2ms/step - loss: 0.3383 - accuracy: 0.8603 - val_loss: 0.3212 - val_accuracy: 0.8687\n",
            "Epoch 57/100\n",
            "225/225 [==============================] - 0s 2ms/step - loss: 0.3383 - accuracy: 0.8599 - val_loss: 0.3210 - val_accuracy: 0.8712\n",
            "Epoch 58/100\n",
            "225/225 [==============================] - 0s 2ms/step - loss: 0.3380 - accuracy: 0.8581 - val_loss: 0.3230 - val_accuracy: 0.8687\n",
            "Epoch 59/100\n",
            "225/225 [==============================] - 0s 2ms/step - loss: 0.3387 - accuracy: 0.8628 - val_loss: 0.3258 - val_accuracy: 0.8550\n",
            "Epoch 60/100\n",
            "225/225 [==============================] - 0s 2ms/step - loss: 0.3381 - accuracy: 0.8599 - val_loss: 0.3221 - val_accuracy: 0.8687\n",
            "Epoch 61/100\n",
            "225/225 [==============================] - 0s 2ms/step - loss: 0.3378 - accuracy: 0.8608 - val_loss: 0.3213 - val_accuracy: 0.8750\n",
            "Epoch 62/100\n",
            "225/225 [==============================] - 0s 2ms/step - loss: 0.3380 - accuracy: 0.8571 - val_loss: 0.3223 - val_accuracy: 0.8650\n",
            "Epoch 63/100\n",
            "225/225 [==============================] - 0s 2ms/step - loss: 0.3376 - accuracy: 0.8596 - val_loss: 0.3223 - val_accuracy: 0.8650\n",
            "Epoch 64/100\n",
            "225/225 [==============================] - 0s 2ms/step - loss: 0.3380 - accuracy: 0.8599 - val_loss: 0.3219 - val_accuracy: 0.8675\n",
            "Epoch 65/100\n",
            "225/225 [==============================] - 0s 2ms/step - loss: 0.3375 - accuracy: 0.8604 - val_loss: 0.3219 - val_accuracy: 0.8675\n",
            "Epoch 66/100\n",
            "225/225 [==============================] - 0s 2ms/step - loss: 0.3370 - accuracy: 0.8611 - val_loss: 0.3222 - val_accuracy: 0.8675\n",
            "Epoch 67/100\n",
            "225/225 [==============================] - 0s 2ms/step - loss: 0.3368 - accuracy: 0.8601 - val_loss: 0.3242 - val_accuracy: 0.8700\n",
            "Epoch 68/100\n",
            "225/225 [==============================] - 0s 2ms/step - loss: 0.3371 - accuracy: 0.8593 - val_loss: 0.3212 - val_accuracy: 0.8687\n",
            "Epoch 69/100\n",
            "225/225 [==============================] - 0s 2ms/step - loss: 0.3372 - accuracy: 0.8600 - val_loss: 0.3203 - val_accuracy: 0.8712\n",
            "Epoch 70/100\n",
            "225/225 [==============================] - 0s 2ms/step - loss: 0.3364 - accuracy: 0.8617 - val_loss: 0.3202 - val_accuracy: 0.8725\n",
            "Epoch 71/100\n",
            "225/225 [==============================] - 0s 2ms/step - loss: 0.3368 - accuracy: 0.8615 - val_loss: 0.3209 - val_accuracy: 0.8737\n",
            "Epoch 72/100\n",
            "225/225 [==============================] - 0s 2ms/step - loss: 0.3362 - accuracy: 0.8626 - val_loss: 0.3196 - val_accuracy: 0.8712\n",
            "Epoch 73/100\n",
            "225/225 [==============================] - 0s 2ms/step - loss: 0.3362 - accuracy: 0.8607 - val_loss: 0.3210 - val_accuracy: 0.8737\n",
            "Epoch 74/100\n",
            "225/225 [==============================] - 0s 2ms/step - loss: 0.3364 - accuracy: 0.8604 - val_loss: 0.3210 - val_accuracy: 0.8712\n",
            "Epoch 75/100\n",
            "225/225 [==============================] - 0s 2ms/step - loss: 0.3361 - accuracy: 0.8626 - val_loss: 0.3204 - val_accuracy: 0.8725\n",
            "Epoch 76/100\n",
            "225/225 [==============================] - 0s 2ms/step - loss: 0.3354 - accuracy: 0.8601 - val_loss: 0.3216 - val_accuracy: 0.8700\n",
            "Epoch 77/100\n",
            "225/225 [==============================] - 0s 2ms/step - loss: 0.3361 - accuracy: 0.8603 - val_loss: 0.3258 - val_accuracy: 0.8600\n",
            "Epoch 78/100\n",
            "225/225 [==============================] - 0s 2ms/step - loss: 0.3363 - accuracy: 0.8597 - val_loss: 0.3222 - val_accuracy: 0.8687\n",
            "Epoch 79/100\n",
            "225/225 [==============================] - 0s 2ms/step - loss: 0.3358 - accuracy: 0.8599 - val_loss: 0.3234 - val_accuracy: 0.8650\n",
            "Epoch 80/100\n",
            "225/225 [==============================] - 0s 2ms/step - loss: 0.3352 - accuracy: 0.8619 - val_loss: 0.3228 - val_accuracy: 0.8662\n",
            "Epoch 81/100\n",
            "225/225 [==============================] - 0s 2ms/step - loss: 0.3353 - accuracy: 0.8612 - val_loss: 0.3209 - val_accuracy: 0.8662\n",
            "Epoch 82/100\n",
            "225/225 [==============================] - 0s 2ms/step - loss: 0.3355 - accuracy: 0.8621 - val_loss: 0.3198 - val_accuracy: 0.8700\n",
            "Epoch 83/100\n",
            "225/225 [==============================] - 0s 2ms/step - loss: 0.3350 - accuracy: 0.8622 - val_loss: 0.3208 - val_accuracy: 0.8725\n",
            "Epoch 84/100\n",
            "225/225 [==============================] - 0s 2ms/step - loss: 0.3346 - accuracy: 0.8615 - val_loss: 0.3208 - val_accuracy: 0.8662\n",
            "Epoch 85/100\n",
            "225/225 [==============================] - 0s 2ms/step - loss: 0.3355 - accuracy: 0.8622 - val_loss: 0.3199 - val_accuracy: 0.8675\n",
            "Epoch 86/100\n",
            "225/225 [==============================] - 0s 2ms/step - loss: 0.3352 - accuracy: 0.8622 - val_loss: 0.3249 - val_accuracy: 0.8612\n",
            "Epoch 87/100\n",
            "225/225 [==============================] - 0s 2ms/step - loss: 0.3354 - accuracy: 0.8606 - val_loss: 0.3201 - val_accuracy: 0.8712\n",
            "Epoch 88/100\n",
            "225/225 [==============================] - 0s 2ms/step - loss: 0.3339 - accuracy: 0.8617 - val_loss: 0.3193 - val_accuracy: 0.8687\n",
            "Epoch 89/100\n",
            "225/225 [==============================] - 0s 2ms/step - loss: 0.3348 - accuracy: 0.8631 - val_loss: 0.3211 - val_accuracy: 0.8650\n",
            "Epoch 90/100\n",
            "225/225 [==============================] - 0s 2ms/step - loss: 0.3343 - accuracy: 0.8633 - val_loss: 0.3221 - val_accuracy: 0.8675\n",
            "Epoch 91/100\n",
            "225/225 [==============================] - 0s 2ms/step - loss: 0.3350 - accuracy: 0.8608 - val_loss: 0.3211 - val_accuracy: 0.8687\n",
            "Epoch 92/100\n",
            "225/225 [==============================] - 0s 2ms/step - loss: 0.3345 - accuracy: 0.8612 - val_loss: 0.3195 - val_accuracy: 0.8700\n",
            "Epoch 93/100\n",
            "225/225 [==============================] - 0s 2ms/step - loss: 0.3337 - accuracy: 0.8624 - val_loss: 0.3206 - val_accuracy: 0.8700\n",
            "Epoch 94/100\n",
            "225/225 [==============================] - 0s 2ms/step - loss: 0.3342 - accuracy: 0.8624 - val_loss: 0.3210 - val_accuracy: 0.8675\n",
            "Epoch 95/100\n",
            "225/225 [==============================] - 0s 2ms/step - loss: 0.3351 - accuracy: 0.8625 - val_loss: 0.3213 - val_accuracy: 0.8700\n",
            "Epoch 96/100\n",
            "225/225 [==============================] - 0s 2ms/step - loss: 0.3341 - accuracy: 0.8621 - val_loss: 0.3205 - val_accuracy: 0.8712\n",
            "Epoch 97/100\n",
            "225/225 [==============================] - 0s 2ms/step - loss: 0.3341 - accuracy: 0.8626 - val_loss: 0.3238 - val_accuracy: 0.8625\n",
            "Epoch 98/100\n",
            "225/225 [==============================] - 0s 2ms/step - loss: 0.3345 - accuracy: 0.8600 - val_loss: 0.3200 - val_accuracy: 0.8675\n",
            "Epoch 99/100\n",
            "225/225 [==============================] - 0s 2ms/step - loss: 0.3327 - accuracy: 0.8628 - val_loss: 0.3263 - val_accuracy: 0.8612\n",
            "Epoch 100/100\n",
            "225/225 [==============================] - 0s 2ms/step - loss: 0.3338 - accuracy: 0.8632 - val_loss: 0.3190 - val_accuracy: 0.8737\n"
          ]
        },
        {
          "output_type": "execute_result",
          "data": {
            "text/plain": [
              "<keras.callbacks.History at 0x7f17508ad190>"
            ]
          },
          "metadata": {},
          "execution_count": 22
        }
      ]
    },
    {
      "cell_type": "code",
      "metadata": {
        "colab": {
          "base_uri": "https://localhost:8080/",
          "height": 204
        },
        "id": "opzu528MWsGA",
        "outputId": "4ad1cbe5-a025-4af3-b3e3-50b178a56dcb"
      },
      "source": [
        "loss_df = pd.DataFrame(ann.history.history)\n",
        "loss_df.head()"
      ],
      "execution_count": 23,
      "outputs": [
        {
          "output_type": "execute_result",
          "data": {
            "text/html": [
              "<div>\n",
              "<style scoped>\n",
              "    .dataframe tbody tr th:only-of-type {\n",
              "        vertical-align: middle;\n",
              "    }\n",
              "\n",
              "    .dataframe tbody tr th {\n",
              "        vertical-align: top;\n",
              "    }\n",
              "\n",
              "    .dataframe thead th {\n",
              "        text-align: right;\n",
              "    }\n",
              "</style>\n",
              "<table border=\"1\" class=\"dataframe\">\n",
              "  <thead>\n",
              "    <tr style=\"text-align: right;\">\n",
              "      <th></th>\n",
              "      <th>loss</th>\n",
              "      <th>accuracy</th>\n",
              "      <th>val_loss</th>\n",
              "      <th>val_accuracy</th>\n",
              "    </tr>\n",
              "  </thead>\n",
              "  <tbody>\n",
              "    <tr>\n",
              "      <th>0</th>\n",
              "      <td>0.541801</td>\n",
              "      <td>0.761111</td>\n",
              "      <td>0.479685</td>\n",
              "      <td>0.79500</td>\n",
              "    </tr>\n",
              "    <tr>\n",
              "      <th>1</th>\n",
              "      <td>0.475617</td>\n",
              "      <td>0.796111</td>\n",
              "      <td>0.467431</td>\n",
              "      <td>0.79500</td>\n",
              "    </tr>\n",
              "    <tr>\n",
              "      <th>2</th>\n",
              "      <td>0.468350</td>\n",
              "      <td>0.796111</td>\n",
              "      <td>0.458113</td>\n",
              "      <td>0.79500</td>\n",
              "    </tr>\n",
              "    <tr>\n",
              "      <th>3</th>\n",
              "      <td>0.461167</td>\n",
              "      <td>0.796111</td>\n",
              "      <td>0.446413</td>\n",
              "      <td>0.79500</td>\n",
              "    </tr>\n",
              "    <tr>\n",
              "      <th>4</th>\n",
              "      <td>0.452167</td>\n",
              "      <td>0.797222</td>\n",
              "      <td>0.435335</td>\n",
              "      <td>0.80125</td>\n",
              "    </tr>\n",
              "  </tbody>\n",
              "</table>\n",
              "</div>"
            ],
            "text/plain": [
              "       loss  accuracy  val_loss  val_accuracy\n",
              "0  0.541801  0.761111  0.479685       0.79500\n",
              "1  0.475617  0.796111  0.467431       0.79500\n",
              "2  0.468350  0.796111  0.458113       0.79500\n",
              "3  0.461167  0.796111  0.446413       0.79500\n",
              "4  0.452167  0.797222  0.435335       0.80125"
            ]
          },
          "metadata": {},
          "execution_count": 23
        }
      ]
    },
    {
      "cell_type": "code",
      "metadata": {
        "colab": {
          "base_uri": "https://localhost:8080/",
          "height": 268
        },
        "id": "oYNB9zn7acr1",
        "outputId": "4f7ec5ab-b851-441f-8efa-4158614dbb4d"
      },
      "source": [
        "loss_df.plot();\n"
      ],
      "execution_count": 24,
      "outputs": [
        {
          "output_type": "display_data",
          "data": {
            "image/png": "[encoded data removed]",
            "text/plain": [
              "<Figure size 432x288 with 1 Axes>"
            ]
          },
          "metadata": {
            "needs_background": "light"
          }
        }
      ]
    },
    {
      "cell_type": "code",
      "metadata": {
        "id": "oAHNpdkuboqq"
      },
      "source": [
        "import matplotlib.pyplot as plt\n"
      ],
      "execution_count": 25,
      "outputs": []
    },
    {
      "cell_type": "code",
      "metadata": {
        "colab": {
          "base_uri": "https://localhost:8080/",
          "height": 295
        },
        "id": "4ySm8TyWajeB",
        "outputId": "1567f3b7-e4cb-4652-d03e-0838a3dc8f1e"
      },
      "source": [
        "# summarize history for accuracy\n",
        "plt.plot(loss_df['accuracy'])\n",
        "plt.plot(loss_df['val_accuracy'])\n",
        "plt.title('model accuracy')\n",
        "plt.ylabel('accuracy')\n",
        "plt.xlabel('epoch')\n",
        "plt.legend(['train', 'test'], loc='upper left')\n",
        "plt.show()"
      ],
      "execution_count": 26,
      "outputs": [
        {
          "output_type": "display_data",
          "data": {
            "image/png": "[encoded data removed]",
            "text/plain": [
              "<Figure size 432x288 with 1 Axes>"
            ]
          },
          "metadata": {
            "needs_background": "light"
          }
        }
      ]
    },
    {
      "cell_type": "markdown",
      "metadata": {
        "id": "NKgrlltff-rh"
      },
      "source": [
        "Evaluate the model"
      ]
    },
    {
      "cell_type": "code",
      "metadata": {
        "colab": {
          "base_uri": "https://localhost:8080/"
        },
        "id": "SDg_Dbaje478",
        "outputId": "c2f6a95b-4ddb-4999-e1ad-7ab2650df096"
      },
      "source": [
        "loss , accuracy=ann.evaluate(x_test,y_test)\n",
        "print(\"loss : \", loss)\n",
        "print(\"accuracy : \", accuracy)"
      ],
      "execution_count": 28,
      "outputs": [
        {
          "output_type": "stream",
          "name": "stdout",
          "text": [
            "63/63 [==============================] - 0s 2ms/step - loss: 0.3332 - accuracy: 0.8645\n",
            "loss :  0.3332112431526184\n",
            "accuracy :  0.8644999861717224\n"
          ]
        }
      ]
    },
    {
      "cell_type": "markdown",
      "metadata": {
        "id": "lMmguO43gDax"
      },
      "source": [
        "Predicting the otput"
      ]
    },
    {
      "cell_type": "code",
      "metadata": {
        "id": "Y02RBg5VfzjE"
      },
      "source": [
        "y_pred=ann.predict(x_test)\n",
        "y_pred=(y_pred>0.5)"
      ],
      "execution_count": 29,
      "outputs": []
    },
    {
      "cell_type": "markdown",
      "metadata": {
        "id": "ZlnZUFJggc7f"
      },
      "source": [
        "As we use sigmoid function at output so it will give us probability and y_pred>0.5 mean if its prob. is >0.5 it will give output 1 otherwise 0"
      ]
    },
    {
      "cell_type": "code",
      "metadata": {
        "id": "2uAykSHlgZ6y"
      },
      "source": [
        "# Making the Confusion Matrix\n",
        "from sklearn.metrics import confusion_matrix ,classification_report\n",
        "cm = confusion_matrix(y_test, y_pred)\n",
        "\n",
        "# Calculate the Accuracy\n",
        "from sklearn.metrics import accuracy_score\n",
        "score=accuracy_score(y_pred,y_test)"
      ],
      "execution_count": 34,
      "outputs": []
    },
    {
      "cell_type": "code",
      "metadata": {
        "colab": {
          "base_uri": "https://localhost:8080/"
        },
        "id": "Ur29vpSlg_mV",
        "outputId": "8142f18c-abeb-4b40-cb4d-9684b065035a"
      },
      "source": [
        "print(classification_report(y_test , y_pred))"
      ],
      "execution_count": 36,
      "outputs": [
        {
          "output_type": "stream",
          "name": "stdout",
          "text": [
            "              precision    recall  f1-score   support\n",
            "\n",
            "           0       0.89      0.95      0.92      1595\n",
            "           1       0.73      0.52      0.61       405\n",
            "\n",
            "    accuracy                           0.86      2000\n",
            "   macro avg       0.81      0.74      0.76      2000\n",
            "weighted avg       0.86      0.86      0.86      2000\n",
            "\n"
          ]
        }
      ]
    },
    {
      "cell_type": "code",
      "metadata": {
        "colab": {
          "base_uri": "https://localhost:8080/"
        },
        "id": "WK96PzCGg3SI",
        "outputId": "5b35f0a8-fdf6-47a0-ea07-d8db122148a2"
      },
      "source": [
        "cm"
      ],
      "execution_count": 31,
      "outputs": [
        {
          "output_type": "execute_result",
          "data": {
            "text/plain": [
              "array([[1519,   76],\n",
              "       [ 195,  210]])"
            ]
          },
          "metadata": {},
          "execution_count": 31
        }
      ]
    },
    {
      "cell_type": "code",
      "metadata": {
        "colab": {
          "base_uri": "https://localhost:8080/"
        },
        "id": "9g0Fgpp_g495",
        "outputId": "8343a170-fba6-4bd1-abae-317f3ce949a8"
      },
      "source": [
        "score"
      ],
      "execution_count": 32,
      "outputs": [
        {
          "output_type": "execute_result",
          "data": {
            "text/plain": [
              "0.8645"
            ]
          },
          "metadata": {},
          "execution_count": 32
        }
      ]
    },
    {
      "cell_type": "code",
      "metadata": {
        "id": "sJHU5BAKg6Xk"
      },
      "source": [
        ""
      ],
      "execution_count": null,
      "outputs": []
    }
  ]
}